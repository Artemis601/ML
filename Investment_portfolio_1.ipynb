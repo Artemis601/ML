{
  "nbformat": 4,
  "nbformat_minor": 0,
  "metadata": {
    "colab": {
      "name": "Investment portfolio_1.ipynb",
      "provenance": [],
      "collapsed_sections": [],
      "authorship_tag": "ABX9TyM3HqL4oJGV27TvdHxRCMki",
      "include_colab_link": true
    },
    "kernelspec": {
      "name": "python3",
      "display_name": "Python 3"
    }
  },
  "cells": [
    {
      "cell_type": "markdown",
      "metadata": {
        "id": "view-in-github",
        "colab_type": "text"
      },
      "source": [
        "<a href=\"https://colab.research.google.com/github/Artemis601/ML/blob/master/Investment_portfolio_1.ipynb\" target=\"_parent\"><img src=\"https://colab.research.google.com/assets/colab-badge.svg\" alt=\"Open In Colab\"/></a>"
      ]
    },
    {
      "cell_type": "markdown",
      "metadata": {
        "id": "hU7Kv5SrCvEk",
        "colab_type": "text"
      },
      "source": [
        "In this notebook, I try to use methods of quantitative risk management taught at Datacamp by Dr.Jamsheed Shorish\n",
        "\n",
        "Chapter 1: Risk and Return"
      ]
    },
    {
      "cell_type": "code",
      "metadata": {
        "id": "gDfF_4GaVgvQ",
        "colab_type": "code",
        "colab": {}
      },
      "source": [
        "import pandas as pd\n",
        "import numpy as np\n",
        "import datetime\n"
      ],
      "execution_count": 0,
      "outputs": []
    },
    {
      "cell_type": "code",
      "metadata": {
        "id": "RsXINgrWIuSS",
        "colab_type": "code",
        "outputId": "a7c4f010-1131-45c1-97b7-9c4fe49a8b9a",
        "colab": {
          "base_uri": "https://localhost:8080/",
          "height": 71
        }
      },
      "source": [
        "import matplotlib.pyplot as plt\n",
        "import seaborn as sns\n",
        "sns.set_style('ticks')\n",
        "plt.style.use('ggplot')"
      ],
      "execution_count": 2,
      "outputs": [
        {
          "output_type": "stream",
          "text": [
            "/usr/local/lib/python3.6/dist-packages/statsmodels/tools/_testing.py:19: FutureWarning: pandas.util.testing is deprecated. Use the functions in the public API at pandas.testing instead.\n",
            "  import pandas.util.testing as tm\n"
          ],
          "name": "stderr"
        }
      ]
    },
    {
      "cell_type": "code",
      "metadata": {
        "id": "jLpPZo79VsFB",
        "colab_type": "code",
        "colab": {}
      },
      "source": [
        "from pandas_datareader import data as pdr\n",
        "import fix_yahoo_finance as yf\n"
      ],
      "execution_count": 0,
      "outputs": []
    },
    {
      "cell_type": "code",
      "metadata": {
        "id": "i1y5iyCDXV2T",
        "colab_type": "code",
        "colab": {}
      },
      "source": [
        "start_sp= datetime.datetime(2006,1,1)\n",
        "end_sp= datetime.datetime(2011,3,9)"
      ],
      "execution_count": 0,
      "outputs": []
    },
    {
      "cell_type": "markdown",
      "metadata": {
        "id": "DPgTaYsrYE0N",
        "colab_type": "text"
      },
      "source": [
        "The ticker for S&P 500 is ^GSPC as found in Yahoo! Finance"
      ]
    },
    {
      "cell_type": "code",
      "metadata": {
        "id": "2sJ11iVCWqNP",
        "colab_type": "code",
        "colab": {}
      },
      "source": [
        "sp500= pdr.get_data_yahoo('^GSPC', start_sp, end_sp)"
      ],
      "execution_count": 0,
      "outputs": []
    },
    {
      "cell_type": "code",
      "metadata": {
        "id": "fVHvVSmVX5ew",
        "colab_type": "code",
        "outputId": "9a90ed22-dcff-4c24-9e1f-ad05b55a8278",
        "colab": {
          "base_uri": "https://localhost:8080/",
          "height": 235
        }
      },
      "source": [
        "sp500.head()"
      ],
      "execution_count": 6,
      "outputs": [
        {
          "output_type": "execute_result",
          "data": {
            "text/html": [
              "<div>\n",
              "<style scoped>\n",
              "    .dataframe tbody tr th:only-of-type {\n",
              "        vertical-align: middle;\n",
              "    }\n",
              "\n",
              "    .dataframe tbody tr th {\n",
              "        vertical-align: top;\n",
              "    }\n",
              "\n",
              "    .dataframe thead th {\n",
              "        text-align: right;\n",
              "    }\n",
              "</style>\n",
              "<table border=\"1\" class=\"dataframe\">\n",
              "  <thead>\n",
              "    <tr style=\"text-align: right;\">\n",
              "      <th></th>\n",
              "      <th>High</th>\n",
              "      <th>Low</th>\n",
              "      <th>Open</th>\n",
              "      <th>Close</th>\n",
              "      <th>Volume</th>\n",
              "      <th>Adj Close</th>\n",
              "    </tr>\n",
              "    <tr>\n",
              "      <th>Date</th>\n",
              "      <th></th>\n",
              "      <th></th>\n",
              "      <th></th>\n",
              "      <th></th>\n",
              "      <th></th>\n",
              "      <th></th>\n",
              "    </tr>\n",
              "  </thead>\n",
              "  <tbody>\n",
              "    <tr>\n",
              "      <th>2006-01-03</th>\n",
              "      <td>1270.219971</td>\n",
              "      <td>1245.739990</td>\n",
              "      <td>1248.290039</td>\n",
              "      <td>1268.800049</td>\n",
              "      <td>2554570000</td>\n",
              "      <td>1268.800049</td>\n",
              "    </tr>\n",
              "    <tr>\n",
              "      <th>2006-01-04</th>\n",
              "      <td>1275.369995</td>\n",
              "      <td>1267.739990</td>\n",
              "      <td>1268.800049</td>\n",
              "      <td>1273.459961</td>\n",
              "      <td>2515330000</td>\n",
              "      <td>1273.459961</td>\n",
              "    </tr>\n",
              "    <tr>\n",
              "      <th>2006-01-05</th>\n",
              "      <td>1276.910034</td>\n",
              "      <td>1270.300049</td>\n",
              "      <td>1273.459961</td>\n",
              "      <td>1273.479980</td>\n",
              "      <td>2433340000</td>\n",
              "      <td>1273.479980</td>\n",
              "    </tr>\n",
              "    <tr>\n",
              "      <th>2006-01-06</th>\n",
              "      <td>1286.089966</td>\n",
              "      <td>1273.479980</td>\n",
              "      <td>1273.479980</td>\n",
              "      <td>1285.449951</td>\n",
              "      <td>2446560000</td>\n",
              "      <td>1285.449951</td>\n",
              "    </tr>\n",
              "    <tr>\n",
              "      <th>2006-01-09</th>\n",
              "      <td>1290.780029</td>\n",
              "      <td>1284.819946</td>\n",
              "      <td>1285.449951</td>\n",
              "      <td>1290.150024</td>\n",
              "      <td>2301490000</td>\n",
              "      <td>1290.150024</td>\n",
              "    </tr>\n",
              "  </tbody>\n",
              "</table>\n",
              "</div>"
            ],
            "text/plain": [
              "                   High          Low  ...      Volume    Adj Close\n",
              "Date                                  ...                         \n",
              "2006-01-03  1270.219971  1245.739990  ...  2554570000  1268.800049\n",
              "2006-01-04  1275.369995  1267.739990  ...  2515330000  1273.459961\n",
              "2006-01-05  1276.910034  1270.300049  ...  2433340000  1273.479980\n",
              "2006-01-06  1286.089966  1273.479980  ...  2446560000  1285.449951\n",
              "2006-01-09  1290.780029  1284.819946  ...  2301490000  1290.150024\n",
              "\n",
              "[5 rows x 6 columns]"
            ]
          },
          "metadata": {
            "tags": []
          },
          "execution_count": 6
        }
      ]
    },
    {
      "cell_type": "markdown",
      "metadata": {
        "id": "6Dax4d_7YeTE",
        "colab_type": "text"
      },
      "source": [
        "1. HDFC Bank Limited (HDB), USD\n",
        "2. State Bank of India (SBIN.NS) ; NSE - NSE Real Time Price. Currency in INR\n",
        "3. American Express Company (AXP) ;NYSE - NYSE Delayed Price. Currency in USD\n"
      ]
    },
    {
      "cell_type": "code",
      "metadata": {
        "id": "RoTUi7T9Cp--",
        "colab_type": "code",
        "colab": {}
      },
      "source": [
        "# creating a dynamic list of tickers to pull from Yahoo Finance\n"
      ],
      "execution_count": 0,
      "outputs": []
    },
    {
      "cell_type": "code",
      "metadata": {
        "id": "0sDi56QAX8Eq",
        "colab_type": "code",
        "colab": {}
      },
      "source": [
        "hdfc= pdr.get_data_yahoo('HDB', start_sp, end_sp)\n",
        "sbi= pdr.get_data_yahoo('SBIN.NS', start_sp, end_sp)\n",
        "amex= pdr.get_data_yahoo('AXP', start_sp, end_sp)"
      ],
      "execution_count": 0,
      "outputs": []
    },
    {
      "cell_type": "code",
      "metadata": {
        "id": "02WkmNbaZpz4",
        "colab_type": "code",
        "outputId": "12315168-a3e9-4395-937f-dc0468058ec1",
        "colab": {
          "base_uri": "https://localhost:8080/",
          "height": 235
        }
      },
      "source": [
        "hdfc= hdfc.add_prefix('hdfc_')\n",
        "hdfc.head()"
      ],
      "execution_count": 9,
      "outputs": [
        {
          "output_type": "execute_result",
          "data": {
            "text/html": [
              "<div>\n",
              "<style scoped>\n",
              "    .dataframe tbody tr th:only-of-type {\n",
              "        vertical-align: middle;\n",
              "    }\n",
              "\n",
              "    .dataframe tbody tr th {\n",
              "        vertical-align: top;\n",
              "    }\n",
              "\n",
              "    .dataframe thead th {\n",
              "        text-align: right;\n",
              "    }\n",
              "</style>\n",
              "<table border=\"1\" class=\"dataframe\">\n",
              "  <thead>\n",
              "    <tr style=\"text-align: right;\">\n",
              "      <th></th>\n",
              "      <th>hdfc_High</th>\n",
              "      <th>hdfc_Low</th>\n",
              "      <th>hdfc_Open</th>\n",
              "      <th>hdfc_Close</th>\n",
              "      <th>hdfc_Volume</th>\n",
              "      <th>hdfc_Adj Close</th>\n",
              "    </tr>\n",
              "    <tr>\n",
              "      <th>Date</th>\n",
              "      <th></th>\n",
              "      <th></th>\n",
              "      <th></th>\n",
              "      <th></th>\n",
              "      <th></th>\n",
              "      <th></th>\n",
              "    </tr>\n",
              "  </thead>\n",
              "  <tbody>\n",
              "    <tr>\n",
              "      <th>2006-01-03</th>\n",
              "      <td>5.253</td>\n",
              "      <td>5.121</td>\n",
              "      <td>5.129</td>\n",
              "      <td>5.240</td>\n",
              "      <td>2388000.0</td>\n",
              "      <td>3.260870</td>\n",
              "    </tr>\n",
              "    <tr>\n",
              "      <th>2006-01-04</th>\n",
              "      <td>5.350</td>\n",
              "      <td>5.235</td>\n",
              "      <td>5.235</td>\n",
              "      <td>5.339</td>\n",
              "      <td>1180000.0</td>\n",
              "      <td>3.322477</td>\n",
              "    </tr>\n",
              "    <tr>\n",
              "      <th>2006-01-05</th>\n",
              "      <td>5.374</td>\n",
              "      <td>5.306</td>\n",
              "      <td>5.325</td>\n",
              "      <td>5.356</td>\n",
              "      <td>692000.0</td>\n",
              "      <td>3.333057</td>\n",
              "    </tr>\n",
              "    <tr>\n",
              "      <th>2006-01-06</th>\n",
              "      <td>5.479</td>\n",
              "      <td>5.400</td>\n",
              "      <td>5.402</td>\n",
              "      <td>5.456</td>\n",
              "      <td>1544000.0</td>\n",
              "      <td>3.395287</td>\n",
              "    </tr>\n",
              "    <tr>\n",
              "      <th>2006-01-09</th>\n",
              "      <td>5.566</td>\n",
              "      <td>5.385</td>\n",
              "      <td>5.441</td>\n",
              "      <td>5.566</td>\n",
              "      <td>3079000.0</td>\n",
              "      <td>3.463741</td>\n",
              "    </tr>\n",
              "  </tbody>\n",
              "</table>\n",
              "</div>"
            ],
            "text/plain": [
              "            hdfc_High  hdfc_Low  ...  hdfc_Volume  hdfc_Adj Close\n",
              "Date                             ...                             \n",
              "2006-01-03      5.253     5.121  ...    2388000.0        3.260870\n",
              "2006-01-04      5.350     5.235  ...    1180000.0        3.322477\n",
              "2006-01-05      5.374     5.306  ...     692000.0        3.333057\n",
              "2006-01-06      5.479     5.400  ...    1544000.0        3.395287\n",
              "2006-01-09      5.566     5.385  ...    3079000.0        3.463741\n",
              "\n",
              "[5 rows x 6 columns]"
            ]
          },
          "metadata": {
            "tags": []
          },
          "execution_count": 9
        }
      ]
    },
    {
      "cell_type": "code",
      "metadata": {
        "id": "hj152woMZr9Q",
        "colab_type": "code",
        "outputId": "5852aebc-085e-4853-d869-912ddac682a5",
        "colab": {
          "base_uri": "https://localhost:8080/",
          "height": 235
        }
      },
      "source": [
        "sbi= sbi.add_prefix('sbi_')\n",
        "sbi.head()"
      ],
      "execution_count": 10,
      "outputs": [
        {
          "output_type": "execute_result",
          "data": {
            "text/html": [
              "<div>\n",
              "<style scoped>\n",
              "    .dataframe tbody tr th:only-of-type {\n",
              "        vertical-align: middle;\n",
              "    }\n",
              "\n",
              "    .dataframe tbody tr th {\n",
              "        vertical-align: top;\n",
              "    }\n",
              "\n",
              "    .dataframe thead th {\n",
              "        text-align: right;\n",
              "    }\n",
              "</style>\n",
              "<table border=\"1\" class=\"dataframe\">\n",
              "  <thead>\n",
              "    <tr style=\"text-align: right;\">\n",
              "      <th></th>\n",
              "      <th>sbi_High</th>\n",
              "      <th>sbi_Low</th>\n",
              "      <th>sbi_Open</th>\n",
              "      <th>sbi_Close</th>\n",
              "      <th>sbi_Volume</th>\n",
              "      <th>sbi_Adj Close</th>\n",
              "    </tr>\n",
              "    <tr>\n",
              "      <th>Date</th>\n",
              "      <th></th>\n",
              "      <th></th>\n",
              "      <th></th>\n",
              "      <th></th>\n",
              "      <th></th>\n",
              "      <th></th>\n",
              "    </tr>\n",
              "  </thead>\n",
              "  <tbody>\n",
              "    <tr>\n",
              "      <th>2006-01-02</th>\n",
              "      <td>86.591599</td>\n",
              "      <td>85.119698</td>\n",
              "      <td>86.096298</td>\n",
              "      <td>85.379204</td>\n",
              "      <td>21240601.0</td>\n",
              "      <td>18.207844</td>\n",
              "    </tr>\n",
              "    <tr>\n",
              "      <th>2006-01-03</th>\n",
              "      <td>86.332199</td>\n",
              "      <td>85.483002</td>\n",
              "      <td>85.681099</td>\n",
              "      <td>86.053802</td>\n",
              "      <td>17462402.0</td>\n",
              "      <td>18.351706</td>\n",
              "    </tr>\n",
              "    <tr>\n",
              "      <th>2006-01-04</th>\n",
              "      <td>87.086998</td>\n",
              "      <td>86.398201</td>\n",
              "      <td>86.398201</td>\n",
              "      <td>86.605797</td>\n",
              "      <td>19420938.0</td>\n",
              "      <td>18.469419</td>\n",
              "    </tr>\n",
              "    <tr>\n",
              "      <th>2006-01-05</th>\n",
              "      <td>89.205200</td>\n",
              "      <td>86.728401</td>\n",
              "      <td>86.954903</td>\n",
              "      <td>88.813599</td>\n",
              "      <td>42574672.0</td>\n",
              "      <td>18.940254</td>\n",
              "    </tr>\n",
              "    <tr>\n",
              "      <th>2006-01-06</th>\n",
              "      <td>89.634499</td>\n",
              "      <td>87.855904</td>\n",
              "      <td>88.785301</td>\n",
              "      <td>88.705101</td>\n",
              "      <td>23846596.0</td>\n",
              "      <td>18.917118</td>\n",
              "    </tr>\n",
              "  </tbody>\n",
              "</table>\n",
              "</div>"
            ],
            "text/plain": [
              "             sbi_High    sbi_Low  ...  sbi_Volume  sbi_Adj Close\n",
              "Date                              ...                           \n",
              "2006-01-02  86.591599  85.119698  ...  21240601.0      18.207844\n",
              "2006-01-03  86.332199  85.483002  ...  17462402.0      18.351706\n",
              "2006-01-04  87.086998  86.398201  ...  19420938.0      18.469419\n",
              "2006-01-05  89.205200  86.728401  ...  42574672.0      18.940254\n",
              "2006-01-06  89.634499  87.855904  ...  23846596.0      18.917118\n",
              "\n",
              "[5 rows x 6 columns]"
            ]
          },
          "metadata": {
            "tags": []
          },
          "execution_count": 10
        }
      ]
    },
    {
      "cell_type": "code",
      "metadata": {
        "id": "3R0VwwExZux0",
        "colab_type": "code",
        "outputId": "0c3422ca-c2f5-48a1-a4c5-efc7e5ff02e6",
        "colab": {
          "base_uri": "https://localhost:8080/",
          "height": 235
        }
      },
      "source": [
        "amex= amex.add_prefix('amex_')\n",
        "amex.head()"
      ],
      "execution_count": 11,
      "outputs": [
        {
          "output_type": "execute_result",
          "data": {
            "text/html": [
              "<div>\n",
              "<style scoped>\n",
              "    .dataframe tbody tr th:only-of-type {\n",
              "        vertical-align: middle;\n",
              "    }\n",
              "\n",
              "    .dataframe tbody tr th {\n",
              "        vertical-align: top;\n",
              "    }\n",
              "\n",
              "    .dataframe thead th {\n",
              "        text-align: right;\n",
              "    }\n",
              "</style>\n",
              "<table border=\"1\" class=\"dataframe\">\n",
              "  <thead>\n",
              "    <tr style=\"text-align: right;\">\n",
              "      <th></th>\n",
              "      <th>amex_High</th>\n",
              "      <th>amex_Low</th>\n",
              "      <th>amex_Open</th>\n",
              "      <th>amex_Close</th>\n",
              "      <th>amex_Volume</th>\n",
              "      <th>amex_Adj Close</th>\n",
              "    </tr>\n",
              "    <tr>\n",
              "      <th>Date</th>\n",
              "      <th></th>\n",
              "      <th></th>\n",
              "      <th></th>\n",
              "      <th></th>\n",
              "      <th></th>\n",
              "      <th></th>\n",
              "    </tr>\n",
              "  </thead>\n",
              "  <tbody>\n",
              "    <tr>\n",
              "      <th>2006-01-03</th>\n",
              "      <td>52.580002</td>\n",
              "      <td>51.049999</td>\n",
              "      <td>51.700001</td>\n",
              "      <td>52.580002</td>\n",
              "      <td>7825700.0</td>\n",
              "      <td>41.785267</td>\n",
              "    </tr>\n",
              "    <tr>\n",
              "      <th>2006-01-04</th>\n",
              "      <td>52.570000</td>\n",
              "      <td>51.810001</td>\n",
              "      <td>52.439999</td>\n",
              "      <td>51.950001</td>\n",
              "      <td>5729400.0</td>\n",
              "      <td>41.379032</td>\n",
              "    </tr>\n",
              "    <tr>\n",
              "      <th>2006-01-05</th>\n",
              "      <td>52.509998</td>\n",
              "      <td>51.900002</td>\n",
              "      <td>51.900002</td>\n",
              "      <td>52.500000</td>\n",
              "      <td>3925800.0</td>\n",
              "      <td>41.817112</td>\n",
              "    </tr>\n",
              "    <tr>\n",
              "      <th>2006-01-06</th>\n",
              "      <td>52.869999</td>\n",
              "      <td>52.279999</td>\n",
              "      <td>52.639999</td>\n",
              "      <td>52.680000</td>\n",
              "      <td>4137800.0</td>\n",
              "      <td>41.960484</td>\n",
              "    </tr>\n",
              "    <tr>\n",
              "      <th>2006-01-09</th>\n",
              "      <td>53.990002</td>\n",
              "      <td>52.820000</td>\n",
              "      <td>52.820000</td>\n",
              "      <td>53.990002</td>\n",
              "      <td>6093300.0</td>\n",
              "      <td>43.003925</td>\n",
              "    </tr>\n",
              "  </tbody>\n",
              "</table>\n",
              "</div>"
            ],
            "text/plain": [
              "            amex_High   amex_Low  ...  amex_Volume  amex_Adj Close\n",
              "Date                              ...                             \n",
              "2006-01-03  52.580002  51.049999  ...    7825700.0       41.785267\n",
              "2006-01-04  52.570000  51.810001  ...    5729400.0       41.379032\n",
              "2006-01-05  52.509998  51.900002  ...    3925800.0       41.817112\n",
              "2006-01-06  52.869999  52.279999  ...    4137800.0       41.960484\n",
              "2006-01-09  53.990002  52.820000  ...    6093300.0       43.003925\n",
              "\n",
              "[5 rows x 6 columns]"
            ]
          },
          "metadata": {
            "tags": []
          },
          "execution_count": 11
        }
      ]
    },
    {
      "cell_type": "code",
      "metadata": {
        "id": "QANFwyN1FCcb",
        "colab_type": "code",
        "outputId": "542ef67d-61be-4750-f008-f7a2f4bbaa85",
        "colab": {
          "base_uri": "https://localhost:8080/",
          "height": 235
        }
      },
      "source": [
        "sp500 = sp500.add_prefix('sp500_')\n",
        "amex.head()"
      ],
      "execution_count": 12,
      "outputs": [
        {
          "output_type": "execute_result",
          "data": {
            "text/html": [
              "<div>\n",
              "<style scoped>\n",
              "    .dataframe tbody tr th:only-of-type {\n",
              "        vertical-align: middle;\n",
              "    }\n",
              "\n",
              "    .dataframe tbody tr th {\n",
              "        vertical-align: top;\n",
              "    }\n",
              "\n",
              "    .dataframe thead th {\n",
              "        text-align: right;\n",
              "    }\n",
              "</style>\n",
              "<table border=\"1\" class=\"dataframe\">\n",
              "  <thead>\n",
              "    <tr style=\"text-align: right;\">\n",
              "      <th></th>\n",
              "      <th>amex_High</th>\n",
              "      <th>amex_Low</th>\n",
              "      <th>amex_Open</th>\n",
              "      <th>amex_Close</th>\n",
              "      <th>amex_Volume</th>\n",
              "      <th>amex_Adj Close</th>\n",
              "    </tr>\n",
              "    <tr>\n",
              "      <th>Date</th>\n",
              "      <th></th>\n",
              "      <th></th>\n",
              "      <th></th>\n",
              "      <th></th>\n",
              "      <th></th>\n",
              "      <th></th>\n",
              "    </tr>\n",
              "  </thead>\n",
              "  <tbody>\n",
              "    <tr>\n",
              "      <th>2006-01-03</th>\n",
              "      <td>52.580002</td>\n",
              "      <td>51.049999</td>\n",
              "      <td>51.700001</td>\n",
              "      <td>52.580002</td>\n",
              "      <td>7825700.0</td>\n",
              "      <td>41.785267</td>\n",
              "    </tr>\n",
              "    <tr>\n",
              "      <th>2006-01-04</th>\n",
              "      <td>52.570000</td>\n",
              "      <td>51.810001</td>\n",
              "      <td>52.439999</td>\n",
              "      <td>51.950001</td>\n",
              "      <td>5729400.0</td>\n",
              "      <td>41.379032</td>\n",
              "    </tr>\n",
              "    <tr>\n",
              "      <th>2006-01-05</th>\n",
              "      <td>52.509998</td>\n",
              "      <td>51.900002</td>\n",
              "      <td>51.900002</td>\n",
              "      <td>52.500000</td>\n",
              "      <td>3925800.0</td>\n",
              "      <td>41.817112</td>\n",
              "    </tr>\n",
              "    <tr>\n",
              "      <th>2006-01-06</th>\n",
              "      <td>52.869999</td>\n",
              "      <td>52.279999</td>\n",
              "      <td>52.639999</td>\n",
              "      <td>52.680000</td>\n",
              "      <td>4137800.0</td>\n",
              "      <td>41.960484</td>\n",
              "    </tr>\n",
              "    <tr>\n",
              "      <th>2006-01-09</th>\n",
              "      <td>53.990002</td>\n",
              "      <td>52.820000</td>\n",
              "      <td>52.820000</td>\n",
              "      <td>53.990002</td>\n",
              "      <td>6093300.0</td>\n",
              "      <td>43.003925</td>\n",
              "    </tr>\n",
              "  </tbody>\n",
              "</table>\n",
              "</div>"
            ],
            "text/plain": [
              "            amex_High   amex_Low  ...  amex_Volume  amex_Adj Close\n",
              "Date                              ...                             \n",
              "2006-01-03  52.580002  51.049999  ...    7825700.0       41.785267\n",
              "2006-01-04  52.570000  51.810001  ...    5729400.0       41.379032\n",
              "2006-01-05  52.509998  51.900002  ...    3925800.0       41.817112\n",
              "2006-01-06  52.869999  52.279999  ...    4137800.0       41.960484\n",
              "2006-01-09  53.990002  52.820000  ...    6093300.0       43.003925\n",
              "\n",
              "[5 rows x 6 columns]"
            ]
          },
          "metadata": {
            "tags": []
          },
          "execution_count": 12
        }
      ]
    },
    {
      "cell_type": "code",
      "metadata": {
        "id": "Nwt5TCgHDnsG",
        "colab_type": "code",
        "colab": {}
      },
      "source": [
        "asset_prices= pd.concat([hdfc['hdfc_Adj Close'], sbi['sbi_Adj Close'],amex['amex_Adj Close']], axis=1).dropna()"
      ],
      "execution_count": 0,
      "outputs": []
    },
    {
      "cell_type": "code",
      "metadata": {
        "id": "DZxDt8n-f9VE",
        "colab_type": "code",
        "colab": {}
      },
      "source": [
        "asset_returns= asset_prices.pct_change()"
      ],
      "execution_count": 0,
      "outputs": []
    },
    {
      "cell_type": "code",
      "metadata": {
        "id": "uvgYGuj5DecM",
        "colab_type": "code",
        "outputId": "7aaf740a-a13c-40b8-aff5-29e03272ea11",
        "colab": {
          "base_uri": "https://localhost:8080/",
          "height": 235
        }
      },
      "source": [
        "asset_returns.head()"
      ],
      "execution_count": 15,
      "outputs": [
        {
          "output_type": "execute_result",
          "data": {
            "text/html": [
              "<div>\n",
              "<style scoped>\n",
              "    .dataframe tbody tr th:only-of-type {\n",
              "        vertical-align: middle;\n",
              "    }\n",
              "\n",
              "    .dataframe tbody tr th {\n",
              "        vertical-align: top;\n",
              "    }\n",
              "\n",
              "    .dataframe thead th {\n",
              "        text-align: right;\n",
              "    }\n",
              "</style>\n",
              "<table border=\"1\" class=\"dataframe\">\n",
              "  <thead>\n",
              "    <tr style=\"text-align: right;\">\n",
              "      <th></th>\n",
              "      <th>hdfc_Adj Close</th>\n",
              "      <th>sbi_Adj Close</th>\n",
              "      <th>amex_Adj Close</th>\n",
              "    </tr>\n",
              "    <tr>\n",
              "      <th>Date</th>\n",
              "      <th></th>\n",
              "      <th></th>\n",
              "      <th></th>\n",
              "    </tr>\n",
              "  </thead>\n",
              "  <tbody>\n",
              "    <tr>\n",
              "      <th>2006-01-03</th>\n",
              "      <td>NaN</td>\n",
              "      <td>NaN</td>\n",
              "      <td>NaN</td>\n",
              "    </tr>\n",
              "    <tr>\n",
              "      <th>2006-01-04</th>\n",
              "      <td>0.018893</td>\n",
              "      <td>0.006414</td>\n",
              "      <td>-0.009722</td>\n",
              "    </tr>\n",
              "    <tr>\n",
              "      <th>2006-01-05</th>\n",
              "      <td>0.003184</td>\n",
              "      <td>0.025493</td>\n",
              "      <td>0.010587</td>\n",
              "    </tr>\n",
              "    <tr>\n",
              "      <th>2006-01-06</th>\n",
              "      <td>0.018671</td>\n",
              "      <td>-0.001222</td>\n",
              "      <td>0.003429</td>\n",
              "    </tr>\n",
              "    <tr>\n",
              "      <th>2006-01-09</th>\n",
              "      <td>0.020161</td>\n",
              "      <td>-0.014040</td>\n",
              "      <td>0.024867</td>\n",
              "    </tr>\n",
              "  </tbody>\n",
              "</table>\n",
              "</div>"
            ],
            "text/plain": [
              "            hdfc_Adj Close  sbi_Adj Close  amex_Adj Close\n",
              "Date                                                     \n",
              "2006-01-03             NaN            NaN             NaN\n",
              "2006-01-04        0.018893       0.006414       -0.009722\n",
              "2006-01-05        0.003184       0.025493        0.010587\n",
              "2006-01-06        0.018671      -0.001222        0.003429\n",
              "2006-01-09        0.020161      -0.014040        0.024867"
            ]
          },
          "metadata": {
            "tags": []
          },
          "execution_count": 15
        }
      ]
    },
    {
      "cell_type": "code",
      "metadata": {
        "id": "l5G9dGfXDiq5",
        "colab_type": "code",
        "colab": {}
      },
      "source": [
        "weights= [.25, 0.5,.25]"
      ],
      "execution_count": 0,
      "outputs": []
    },
    {
      "cell_type": "code",
      "metadata": {
        "id": "Fu3rL4XRH3mu",
        "colab_type": "code",
        "colab": {}
      },
      "source": [
        "port_returns= asset_returns.dot(weights)"
      ],
      "execution_count": 0,
      "outputs": []
    },
    {
      "cell_type": "code",
      "metadata": {
        "id": "n-dSIKfjIRPU",
        "colab_type": "code",
        "outputId": "15478d7b-c92b-4a77-c7ac-90e153d16f88",
        "colab": {
          "base_uri": "https://localhost:8080/",
          "height": 338
        }
      },
      "source": [
        "plt.figure(figsize=(7,5))\n",
        "port_returns.plot().set_ylabel('Portfolio Returns')"
      ],
      "execution_count": 18,
      "outputs": [
        {
          "output_type": "execute_result",
          "data": {
            "text/plain": [
              "Text(0, 0.5, 'Portfolio Returns')"
            ]
          },
          "metadata": {
            "tags": []
          },
          "execution_count": 18
        },
        {
          "output_type": "display_data",
          "data": {
            "image/png": "[encoded data removed]",
            "text/plain": [
              "<Figure size 504x360 with 1 Axes>"
            ]
          },
          "metadata": {
            "tags": []
          }
        }
      ]
    },
    {
      "cell_type": "code",
      "metadata": {
        "id": "GBDghbHWImyv",
        "colab_type": "code",
        "colab": {}
      },
      "source": [
        "# covariance matrix\n",
        "covariance= asset_returns.cov()\n",
        "covariance= covariance*252"
      ],
      "execution_count": 0,
      "outputs": []
    },
    {
      "cell_type": "code",
      "metadata": {
        "id": "9V12N8PVJ-wD",
        "colab_type": "code",
        "outputId": "1ab7a6d5-e4ea-401e-984d-7bba6704f25b",
        "colab": {
          "base_uri": "https://localhost:8080/",
          "height": 142
        }
      },
      "source": [
        "covariance"
      ],
      "execution_count": 20,
      "outputs": [
        {
          "output_type": "execute_result",
          "data": {
            "text/html": [
              "<div>\n",
              "<style scoped>\n",
              "    .dataframe tbody tr th:only-of-type {\n",
              "        vertical-align: middle;\n",
              "    }\n",
              "\n",
              "    .dataframe tbody tr th {\n",
              "        vertical-align: top;\n",
              "    }\n",
              "\n",
              "    .dataframe thead th {\n",
              "        text-align: right;\n",
              "    }\n",
              "</style>\n",
              "<table border=\"1\" class=\"dataframe\">\n",
              "  <thead>\n",
              "    <tr style=\"text-align: right;\">\n",
              "      <th></th>\n",
              "      <th>hdfc_Adj Close</th>\n",
              "      <th>sbi_Adj Close</th>\n",
              "      <th>amex_Adj Close</th>\n",
              "    </tr>\n",
              "  </thead>\n",
              "  <tbody>\n",
              "    <tr>\n",
              "      <th>hdfc_Adj Close</th>\n",
              "      <td>0.325370</td>\n",
              "      <td>0.110553</td>\n",
              "      <td>0.183370</td>\n",
              "    </tr>\n",
              "    <tr>\n",
              "      <th>sbi_Adj Close</th>\n",
              "      <td>0.110553</td>\n",
              "      <td>0.215346</td>\n",
              "      <td>0.044140</td>\n",
              "    </tr>\n",
              "    <tr>\n",
              "      <th>amex_Adj Close</th>\n",
              "      <td>0.183370</td>\n",
              "      <td>0.044140</td>\n",
              "      <td>0.265873</td>\n",
              "    </tr>\n",
              "  </tbody>\n",
              "</table>\n",
              "</div>"
            ],
            "text/plain": [
              "                hdfc_Adj Close  sbi_Adj Close  amex_Adj Close\n",
              "hdfc_Adj Close        0.325370       0.110553        0.183370\n",
              "sbi_Adj Close         0.110553       0.215346        0.044140\n",
              "amex_Adj Close        0.183370       0.044140        0.265873"
            ]
          },
          "metadata": {
            "tags": []
          },
          "execution_count": 20
        }
      ]
    },
    {
      "cell_type": "code",
      "metadata": {
        "id": "DgmiFEiGJ_l_",
        "colab_type": "code",
        "colab": {}
      },
      "source": [
        "# portfolio variance\n",
        "port_variance= np.transpose(weights)@covariance@weights"
      ],
      "execution_count": 0,
      "outputs": []
    },
    {
      "cell_type": "code",
      "metadata": {
        "id": "58lh2fLAKdsy",
        "colab_type": "code",
        "colab": {}
      },
      "source": [
        "port_volatility= np.sqrt(port_variance)"
      ],
      "execution_count": 0,
      "outputs": []
    },
    {
      "cell_type": "code",
      "metadata": {
        "id": "YhIWWmmUKkCi",
        "colab_type": "code",
        "outputId": "688ec0fa-3cc7-4a77-e11e-91bb8cff8783",
        "colab": {
          "base_uri": "https://localhost:8080/",
          "height": 34
        }
      },
      "source": [
        "port_volatility"
      ],
      "execution_count": 23,
      "outputs": [
        {
          "output_type": "execute_result",
          "data": {
            "text/plain": [
              "0.3903635277936897"
            ]
          },
          "metadata": {
            "tags": []
          },
          "execution_count": 23
        }
      ]
    },
    {
      "cell_type": "code",
      "metadata": {
        "id": "vbn9Zv3lKlAe",
        "colab_type": "code",
        "colab": {}
      },
      "source": [
        "# calculate 30 day window of portfolio returns\n",
        "port_returns_window = port_returns.rolling(window = 30)"
      ],
      "execution_count": 0,
      "outputs": []
    },
    {
      "cell_type": "code",
      "metadata": {
        "id": "SvKh3zOrLsZl",
        "colab_type": "code",
        "colab": {}
      },
      "source": [
        "# compute annualized volatility series\n",
        "port_volatility = port_returns_window.std()*np.sqrt(252)"
      ],
      "execution_count": 0,
      "outputs": []
    },
    {
      "cell_type": "code",
      "metadata": {
        "id": "dkfGZLz6PAfq",
        "colab_type": "code",
        "outputId": "5034b4b0-fc1f-4ffc-ad73-6f6c267213fd",
        "colab": {
          "base_uri": "https://localhost:8080/",
          "height": 436
        }
      },
      "source": [
        "plt.figure(figsize=(12,7))\n",
        "port_volatility.plot().set_ylabel('Annualized volatility, 30 day rolling period')"
      ],
      "execution_count": 26,
      "outputs": [
        {
          "output_type": "execute_result",
          "data": {
            "text/plain": [
              "Text(0, 0.5, 'Annualized volatility, 30 day rolling period')"
            ]
          },
          "metadata": {
            "tags": []
          },
          "execution_count": 26
        },
        {
          "output_type": "display_data",
          "data": {
            "image/png": "[encoded data removed]",
            "text/plain": [
              "<Figure size 864x504 with 1 Axes>"
            ]
          },
          "metadata": {
            "tags": []
          }
        }
      ]
    },
    {
      "cell_type": "markdown",
      "metadata": {
        "id": "7xd2xfILCuBl",
        "colab_type": "text"
      },
      "source": [
        "We install the library using the following command\n",
        "\n",
        "pip install PyPortfolioOpt\n",
        "\n",
        "and import mean_historical_return method"
      ]
    },
    {
      "cell_type": "code",
      "metadata": {
        "id": "l7USyFF2RNOo",
        "colab_type": "code",
        "colab": {}
      },
      "source": [
        "from pypfopt.expected_returns import mean_historical_return"
      ],
      "execution_count": 0,
      "outputs": []
    },
    {
      "cell_type": "code",
      "metadata": {
        "id": "XWJa4tMhT6fd",
        "colab_type": "code",
        "colab": {}
      },
      "source": [
        "# compute annualized average historical return\n",
        "mean_returns = mean_historical_return(asset_prices, frequency=252)"
      ],
      "execution_count": 0,
      "outputs": []
    },
    {
      "cell_type": "code",
      "metadata": {
        "id": "Pild3dVFDoRH",
        "colab_type": "code",
        "colab": {
          "base_uri": "https://localhost:8080/",
          "height": 338
        },
        "outputId": "0f9d9e66-c668-43ea-f99b-fb89c8aaeb3e"
      },
      "source": [
        "mean_returns.plot(linestyle= 'None', marker='o', figsize=(7,5)).set_ylabel('Mean Returns')"
      ],
      "execution_count": 49,
      "outputs": [
        {
          "output_type": "execute_result",
          "data": {
            "text/plain": [
              "Text(0, 0.5, 'Mean Returns')"
            ]
          },
          "metadata": {
            "tags": []
          },
          "execution_count": 49
        },
        {
          "output_type": "display_data",
          "data": {
            "image/png": "[encoded data removed]",
            "text/plain": [
              "<Figure size 504x360 with 1 Axes>"
            ]
          },
          "metadata": {
            "tags": []
          }
        }
      ]
    },
    {
      "cell_type": "markdown",
      "metadata": {
        "id": "SCYW7tlDF2Fn",
        "colab_type": "text"
      },
      "source": [
        "Portfolio optimization relies upon an unbiased and efficient estimate of asset covariance. Although sample covariance is unboased, it is not efficient as extreme events tend to be overweighted. \n",
        "\n",
        "One approach to alleviate this is through 'covariance shrinkage' where large errors are reduced/shrunk to improve efficiency.\n",
        "\n",
        "We first import the covariance shrinkage object. Note that although the CovarianceShrimnkage object takes prices as input, it actually calcualtes the covariance matrix of asset returns and not the prices\n",
        "\n",
        "We later display both the coviance matrix before and after ledoit wolf shrinkage"
      ]
    },
    {
      "cell_type": "code",
      "metadata": {
        "id": "xRSDPfgMFJdy",
        "colab_type": "code",
        "colab": {}
      },
      "source": [
        "from pypfopt.risk_models import CovarianceShrinkage\n",
        "cs= CovarianceShrinkage(asset_prices)"
      ],
      "execution_count": 0,
      "outputs": []
    },
    {
      "cell_type": "code",
      "metadata": {
        "id": "0c522GpKG04o",
        "colab_type": "code",
        "colab": {}
      },
      "source": [
        "e_cov= cs.ledoit_wolf()"
      ],
      "execution_count": 0,
      "outputs": []
    },
    {
      "cell_type": "code",
      "metadata": {
        "id": "MioM-AYgHGs_",
        "colab_type": "code",
        "colab": {
          "base_uri": "https://localhost:8080/",
          "height": 221
        },
        "outputId": "fa3b7dcf-b36d-4f1e-eb7c-330316583877"
      },
      "source": [
        "print('Covariance matrix \\n ', covariance,'\\n')\n",
        "print('Efficient Covariance matrix \\n', e_cov,'\\n')"
      ],
      "execution_count": 56,
      "outputs": [
        {
          "output_type": "stream",
          "text": [
            "Covariance matrix \n",
            "                  hdfc_Adj Close  sbi_Adj Close  amex_Adj Close\n",
            "hdfc_Adj Close        0.325370       0.110553        0.183370\n",
            "sbi_Adj Close         0.110553       0.215346        0.044140\n",
            "amex_Adj Close        0.183370       0.044140        0.265873 \n",
            "\n",
            "Efficient Covariance matrix \n",
            "                 hdfc_Adj Close  sbi_Adj Close  amex_Adj Close\n",
            "hdfc_Adj Close        0.323552       0.107422        0.178175\n",
            "sbi_Adj Close         0.107422       0.216645        0.042889\n",
            "amex_Adj Close        0.178175       0.042889        0.265741 \n",
            "\n"
          ],
          "name": "stdout"
        }
      ]
    },
    {
      "cell_type": "markdown",
      "metadata": {
        "id": "HRn1uWE5MBdj",
        "colab_type": "text"
      },
      "source": [
        "Althought the difference between the covariance before and after shrinkage seem small, they have a hige impact on the estimation of portfolio weigths and the generation of efficient frontier. \n",
        "\n",
        "Practioners generally use some form of efficient covariance for Modern Portfolio Theory."
      ]
    },
    {
      "cell_type": "markdown",
      "metadata": {
        "id": "9kJD8a9uPMar",
        "colab_type": "text"
      },
      "source": [
        "Breaking down the financial crisis periods into three sub-periods\n",
        "1. 2005-2006\n",
        "2. 2007-2008\n",
        "3. 2009-2010"
      ]
    },
    {
      "cell_type": "code",
      "metadata": {
        "id": "4ChRgnsQLzlQ",
        "colab_type": "code",
        "colab": {}
      },
      "source": [
        "# create a dictionary of time periods \n",
        "epochs= {'before': {'start': '1-1-2005','end':'31-12-2006' }, \n",
        "         'during': {'start': '1-1-2007', 'end': '31-12-2008'}, \n",
        "         'after':{'start':'1-1-2009', 'end': '31-12-2010'}}"
      ],
      "execution_count": 0,
      "outputs": []
    },
    {
      "cell_type": "code",
      "metadata": {
        "id": "QV_jYXAXP_ju",
        "colab_type": "code",
        "colab": {}
      },
      "source": [
        "# compute efficient frontier for each epoch\n",
        "e_covariance={}\n",
        "returns={}\n",
        "for x in epochs.keys():\n",
        "  sub_price= asset_prices.loc[ epochs[x]['start']: epochs[x]['end']]\n",
        "  returns[x]= sub_price.pct_change().mean()\n",
        "  e_covariance[x] = CovarianceShrinkage(sub_price).ledoit_wolf()\n",
        "  "
      ],
      "execution_count": 0,
      "outputs": []
    },
    {
      "cell_type": "code",
      "metadata": {
        "id": "zFzWnKa3QRCH",
        "colab_type": "code",
        "colab": {
          "base_uri": "https://localhost:8080/",
          "height": 255
        },
        "outputId": "000cb9f2-27c2-4619-fd1c-bab9374f9a6d"
      },
      "source": [
        "print('Efficient Covariance matrices \\n ')\n",
        "e_covariance"
      ],
      "execution_count": 72,
      "outputs": [
        {
          "output_type": "stream",
          "text": [
            "Efficient Covariance matrices \n",
            " \n"
          ],
          "name": "stdout"
        },
        {
          "output_type": "execute_result",
          "data": {
            "text/plain": [
              "{'after':                 hdfc_Adj Close  sbi_Adj Close  amex_Adj Close\n",
              " hdfc_Adj Close        0.266083       0.101851        0.171581\n",
              " sbi_Adj Close         0.101851       0.199546        0.047518\n",
              " amex_Adj Close        0.171581       0.047518        0.328939,\n",
              " 'before':                 hdfc_Adj Close  sbi_Adj Close  amex_Adj Close\n",
              " hdfc_Adj Close        0.149304       0.027167        0.019337\n",
              " sbi_Adj Close         0.027167       0.147949       -0.000704\n",
              " amex_Adj Close        0.019337      -0.000704        0.045709,\n",
              " 'during':                 hdfc_Adj Close  sbi_Adj Close  amex_Adj Close\n",
              " hdfc_Adj Close        0.479458       0.145321        0.262514\n",
              " sbi_Adj Close         0.145321       0.276813        0.059643\n",
              " amex_Adj Close        0.262514       0.059643        0.335336}"
            ]
          },
          "metadata": {
            "tags": []
          },
          "execution_count": 72
        }
      ]
    },
    {
      "cell_type": "code",
      "metadata": {
        "id": "bzz-cnLuULCW",
        "colab_type": "code",
        "colab": {
          "base_uri": "https://localhost:8080/",
          "height": 187
        },
        "outputId": "289c3bf1-86d5-4892-f1bb-155fea0d91d0"
      },
      "source": [
        "returns"
      ],
      "execution_count": 87,
      "outputs": [
        {
          "output_type": "execute_result",
          "data": {
            "text/plain": [
              "{'after': hdfc_Adj Close    0.002401\n",
              " sbi_Adj Close     0.002636\n",
              " amex_Adj Close    0.002443\n",
              " dtype: float64, 'before': hdfc_Adj Close    0.002088\n",
              " sbi_Adj Close     0.002508\n",
              " amex_Adj Close    0.000692\n",
              " dtype: float64, 'during': hdfc_Adj Close    0.001121\n",
              " sbi_Adj Close     0.001268\n",
              " amex_Adj Close   -0.001740\n",
              " dtype: float64}"
            ]
          },
          "metadata": {
            "tags": []
          },
          "execution_count": 87
        }
      ]
    },
    {
      "cell_type": "markdown",
      "metadata": {
        "id": "39-aeO92SQuG",
        "colab_type": "text"
      },
      "source": [
        "Now let's visualize the efficient frontier"
      ]
    },
    {
      "cell_type": "code",
      "metadata": {
        "id": "xjWaDXe8VAKv",
        "colab_type": "code",
        "colab": {
          "base_uri": "https://localhost:8080/",
          "height": 142
        },
        "outputId": "d3720056-372c-4724-fdd2-927bbcb72ef3"
      },
      "source": [
        "e_covariance['during']"
      ],
      "execution_count": 85,
      "outputs": [
        {
          "output_type": "execute_result",
          "data": {
            "text/html": [
              "<div>\n",
              "<style scoped>\n",
              "    .dataframe tbody tr th:only-of-type {\n",
              "        vertical-align: middle;\n",
              "    }\n",
              "\n",
              "    .dataframe tbody tr th {\n",
              "        vertical-align: top;\n",
              "    }\n",
              "\n",
              "    .dataframe thead th {\n",
              "        text-align: right;\n",
              "    }\n",
              "</style>\n",
              "<table border=\"1\" class=\"dataframe\">\n",
              "  <thead>\n",
              "    <tr style=\"text-align: right;\">\n",
              "      <th></th>\n",
              "      <th>hdfc_Adj Close</th>\n",
              "      <th>sbi_Adj Close</th>\n",
              "      <th>amex_Adj Close</th>\n",
              "    </tr>\n",
              "  </thead>\n",
              "  <tbody>\n",
              "    <tr>\n",
              "      <th>hdfc_Adj Close</th>\n",
              "      <td>0.479458</td>\n",
              "      <td>0.145321</td>\n",
              "      <td>0.262514</td>\n",
              "    </tr>\n",
              "    <tr>\n",
              "      <th>sbi_Adj Close</th>\n",
              "      <td>0.145321</td>\n",
              "      <td>0.276813</td>\n",
              "      <td>0.059643</td>\n",
              "    </tr>\n",
              "    <tr>\n",
              "      <th>amex_Adj Close</th>\n",
              "      <td>0.262514</td>\n",
              "      <td>0.059643</td>\n",
              "      <td>0.335336</td>\n",
              "    </tr>\n",
              "  </tbody>\n",
              "</table>\n",
              "</div>"
            ],
            "text/plain": [
              "                hdfc_Adj Close  sbi_Adj Close  amex_Adj Close\n",
              "hdfc_Adj Close        0.479458       0.145321        0.262514\n",
              "sbi_Adj Close         0.145321       0.276813        0.059643\n",
              "amex_Adj Close        0.262514       0.059643        0.335336"
            ]
          },
          "metadata": {
            "tags": []
          },
          "execution_count": 85
        }
      ]
    },
    {
      "cell_type": "code",
      "metadata": {
        "id": "SbSSJRu_T1hD",
        "colab_type": "code",
        "colab": {}
      },
      "source": [
        "from pypfopt.cla import CLA"
      ],
      "execution_count": 0,
      "outputs": []
    },
    {
      "cell_type": "code",
      "metadata": {
        "id": "Ov2DsmAeQ99f",
        "colab_type": "code",
        "colab": {}
      },
      "source": [
        "# initialize the critical line algorithm object\n",
        "efficient_portfolio_during = CLA(returns['during'], e_covariance['during'])\n",
        "efficient_portfolio_before = CLA(returns['before'], e_covariance['before'])\n",
        "efficient_portfolio_after = CLA(returns['after'], e_covariance['after'])"
      ],
      "execution_count": 0,
      "outputs": []
    },
    {
      "cell_type": "code",
      "metadata": {
        "id": "ycJP1DJTUzN4",
        "colab_type": "code",
        "colab": {
          "base_uri": "https://localhost:8080/",
          "height": 34
        },
        "outputId": "db07bb68-9ef9-400c-a667-60d588b8c062"
      },
      "source": [
        "# Find minimum volatility portfolio weights and display them\n",
        "print(efficient_portfolio_during.min_volatility())"
      ],
      "execution_count": 90,
      "outputs": [
        {
          "output_type": "stream",
          "text": [
            "OrderedDict([('hdfc_Adj Close', 0.0), ('sbi_Adj Close', 0.5593702894996971), ('amex_Adj Close', 0.4406297105003028)])\n"
          ],
          "name": "stdout"
        }
      ]
    },
    {
      "cell_type": "code",
      "metadata": {
        "id": "3dHw8klXWQD1",
        "colab_type": "code",
        "colab": {}
      },
      "source": [
        "(ret1, vol1, weights1)= efficient_portfolio_during.efficient_frontier()\n",
        "(ret0, vol0, weights0)= efficient_portfolio_before.efficient_frontier()\n",
        "(ret2, vol2, weights2)= efficient_portfolio_after.efficient_frontier()"
      ],
      "execution_count": 0,
      "outputs": []
    },
    {
      "cell_type": "code",
      "metadata": {
        "id": "Gc1tGVf7XfqZ",
        "colab_type": "code",
        "colab": {
          "base_uri": "https://localhost:8080/",
          "height": 311
        },
        "outputId": "c91ca176-4007-429d-a8a5-5229808edbdf"
      },
      "source": [
        "plt.scatter(vol1, ret1, color= 'green', marker= '.', label = 'During')\n",
        "plt.scatter(vol0, ret0, color= 'red', marker= '.', label = 'Before')\n",
        "plt.scatter(vol2, ret2, color= 'blue', marker= '.', label = 'After')\n",
        "plt.suptitle('Changes that took place on Efficient Frontier')\n",
        "plt.legend()"
      ],
      "execution_count": 102,
      "outputs": [
        {
          "output_type": "execute_result",
          "data": {
            "text/plain": [
              "<matplotlib.legend.Legend at 0x7f70b339f940>"
            ]
          },
          "metadata": {
            "tags": []
          },
          "execution_count": 102
        },
        {
          "output_type": "display_data",
          "data": {
            "image/png": "[encoded data removed]",
            "text/plain": [
              "<Figure size 432x288 with 1 Axes>"
            ]
          },
          "metadata": {
            "tags": []
          }
        }
      ]
    },
    {
      "cell_type": "code",
      "metadata": {
        "id": "SFgmXgxGXrLe",
        "colab_type": "code",
        "colab": {}
      },
      "source": [
        ""
      ],
      "execution_count": 0,
      "outputs": []
    }
  ]
}