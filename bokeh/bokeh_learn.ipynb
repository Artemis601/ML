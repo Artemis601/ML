{
 "cells": [
  {
   "cell_type": "code",
   "execution_count": 2,
   "metadata": {},
   "outputs": [
    {
     "name": "stdout",
     "output_type": "stream",
     "text": [
      "Collecting bokeh\n",
      "  Downloading bokeh-2.0.1.tar.gz (8.6 MB)\n",
      "\u001b[K     |████████████████████████████████| 8.6 MB 1.7 MB/s eta 0:00:01\n",
      "\u001b[?25hCollecting PyYAML>=3.10\n",
      "  Downloading PyYAML-5.3.1.tar.gz (269 kB)\n",
      "\u001b[K     |████████████████████████████████| 269 kB 3.5 MB/s eta 0:00:01\n",
      "\u001b[?25hRequirement already satisfied: python-dateutil>=2.1 in /usr/local/Cellar/jupyterlab/2.0.1/libexec/lib/python3.7/site-packages (from bokeh) (2.8.1)\n",
      "Requirement already satisfied: Jinja2>=2.7 in /usr/local/Cellar/jupyterlab/2.0.1/libexec/lib/python3.7/site-packages (from bokeh) (2.11.1)\n",
      "Requirement already satisfied: numpy>=1.11.3 in /usr/local/Cellar/jupyterlab/2.0.1/libexec/lib/python3.7/site-packages (from bokeh) (1.18.2)\n",
      "Collecting pillow>=4.0\n",
      "  Using cached Pillow-7.0.0-cp37-cp37m-macosx_10_6_intel.whl (3.9 MB)\n",
      "Collecting packaging>=16.8\n",
      "  Downloading packaging-20.3-py2.py3-none-any.whl (37 kB)\n",
      "Requirement already satisfied: tornado>=5 in /usr/local/Cellar/jupyterlab/2.0.1/libexec/lib/python3.7/site-packages (from bokeh) (6.0.4)\n",
      "Collecting typing_extensions>=3.7.4\n",
      "  Downloading typing_extensions-3.7.4.1-py3-none-any.whl (20 kB)\n",
      "Requirement already satisfied: six>=1.5 in /usr/local/Cellar/jupyterlab/2.0.1/libexec/lib/python3.7/site-packages (from python-dateutil>=2.1->bokeh) (1.14.0)\n",
      "Requirement already satisfied: MarkupSafe>=0.23 in /usr/local/Cellar/jupyterlab/2.0.1/libexec/lib/python3.7/site-packages (from Jinja2>=2.7->bokeh) (1.1.1)\n",
      "Requirement already satisfied: pyparsing>=2.0.2 in /usr/local/Cellar/jupyterlab/2.0.1/libexec/lib/python3.7/site-packages (from packaging>=16.8->bokeh) (2.4.6)\n",
      "Building wheels for collected packages: bokeh, PyYAML\n",
      "\u001b[33m  WARNING: Building wheel for bokeh failed: [Errno 13] Permission denied: '/Users/kavyaannapareddy/Library/Caches/pip/wheels/9f'\u001b[0m\n",
      "\u001b[33m  WARNING: Building wheel for PyYAML failed: [Errno 13] Permission denied: '/Users/kavyaannapareddy/Library/Caches/pip/wheels/5e'\u001b[0m\n",
      "Failed to build bokeh PyYAML\n",
      "Installing collected packages: PyYAML, pillow, packaging, typing-extensions, bokeh\n",
      "    Running setup.py install for PyYAML ... \u001b[?25ldone\n",
      "\u001b[?25h    Running setup.py install for bokeh ... \u001b[?25ldone\n",
      "\u001b[?25hSuccessfully installed PyYAML-5.3.1 bokeh-2.0.1 packaging-20.3 pillow-7.0.0 typing-extensions-3.7.4.1\n"
     ]
    }
   ],
   "source": [
    "import sys\n",
    "!{sys.executable} -m pip install bokeh"
   ]
  },
  {
   "cell_type": "code",
   "execution_count": 3,
   "metadata": {},
   "outputs": [],
   "source": [
    "from bokeh.io import output_file, show"
   ]
  },
  {
   "cell_type": "code",
   "execution_count": 6,
   "metadata": {},
   "outputs": [],
   "source": [
    "from bokeh.plotting import figure\n",
    "plot= figure(plot_width= 200, tools= 'pan, box_zoom')\n",
    "plot.circle([1,2,3],[8,6,5])\n",
    "show(plot)"
   ]
  },
  {
   "cell_type": "code",
   "execution_count": null,
   "metadata": {},
   "outputs": [],
   "source": []
  }
 ],
 "metadata": {
  "kernelspec": {
   "display_name": "Python 3",
   "language": "python",
   "name": "python3"
  },
  "language_info": {
   "codemirror_mode": {
    "name": "ipython",
    "version": 3
   },
   "file_extension": ".py",
   "mimetype": "text/x-python",
   "name": "python",
   "nbconvert_exporter": "python",
   "pygments_lexer": "ipython3",
   "version": "3.7.7"
  }
 },
 "nbformat": 4,
 "nbformat_minor": 4
}
