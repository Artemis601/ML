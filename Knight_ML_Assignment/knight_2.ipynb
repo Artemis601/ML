{
 "cells": [
  {
   "cell_type": "markdown",
   "metadata": {
    "colab_type": "text",
    "id": "_Scq8hPnxI1H"
   },
   "source": [
    "In this second notebook, I compare several models and  evaluate their performance on our dataset."
   ]
  },
  {
   "cell_type": "code",
   "execution_count": 0,
   "metadata": {
    "colab": {},
    "colab_type": "code",
    "id": "GPxGpmbYrkya"
   },
   "outputs": [],
   "source": [
    "import pandas as pd\n",
    "\n",
    "X_train = pd.read_csv('/content/Knight_X_train.csv')\n",
    "X_valid= pd.read_csv('/content/Knight_X_valid.csv')\n",
    "y_train = pd.read_csv('/content/Knight_y_train.csv')\n",
    "y_valid= pd.read_csv('/content/Knight_y_valid.csv')\n",
    "X_test = pd.read_csv('/content/Knight_X_test.csv')\n",
    "X= pd.read_csv('/content/Knight_X.csv')\n",
    "y= pd.read_csv('/content/Knight_y.csv')"
   ]
  },
  {
   "cell_type": "code",
   "execution_count": 0,
   "metadata": {
    "colab": {},
    "colab_type": "code",
    "id": "PzEErSbLvC8r"
   },
   "outputs": [],
   "source": [
    "import numpy as np\n",
    "X_train= np.array(X_train)\n",
    "y_train= np.array(y_train)\n",
    "X_valid= np.array(X_valid)\n",
    "y_valid= np.array(y_valid)\n",
    "X_test = np.array(X_test)\n",
    "X = np.array(X)\n",
    "y = np.array(y)"
   ]
  },
  {
   "cell_type": "code",
   "execution_count": 0,
   "metadata": {
    "colab": {},
    "colab_type": "code",
    "id": "_eTmd7zevfAC"
   },
   "outputs": [],
   "source": [
    "y_train = y_train.flatten()\n",
    "y_valid= y_valid.flatten()\n",
    "y= y.flatten()"
   ]
  },
  {
   "cell_type": "code",
   "execution_count": 0,
   "metadata": {
    "colab": {
     "base_uri": "https://localhost:8080/",
     "height": 34
    },
    "colab_type": "code",
    "id": "YaFVe2pbwAzR",
    "outputId": "d63d580a-67e4-4cd0-a65c-1e49b75a4253"
   },
   "outputs": [
    {
     "data": {
      "text/plain": [
       "(66125,)"
      ]
     },
     "execution_count": 46,
     "metadata": {
      "tags": []
     },
     "output_type": "execute_result"
    }
   ],
   "source": [
    "y_train.shape"
   ]
  },
  {
   "cell_type": "code",
   "execution_count": 0,
   "metadata": {
    "colab": {
     "base_uri": "https://localhost:8080/",
     "height": 34
    },
    "colab_type": "code",
    "id": "nTi-vl8dyI9L",
    "outputId": "1e3ae451-2232-4f31-ecc2-c71e2b41ed19"
   },
   "outputs": [
    {
     "data": {
      "text/plain": [
       "(66125, 78)"
      ]
     },
     "execution_count": 47,
     "metadata": {
      "tags": []
     },
     "output_type": "execute_result"
    }
   ],
   "source": [
    "X_train.shape"
   ]
  },
  {
   "cell_type": "code",
   "execution_count": 0,
   "metadata": {
    "colab": {
     "base_uri": "https://localhost:8080/",
     "height": 34
    },
    "colab_type": "code",
    "id": "rkE8llS4yMjx",
    "outputId": "38125224-a460-44c7-ab15-6cdf4b2acf51"
   },
   "outputs": [
    {
     "data": {
      "text/plain": [
       "(16532, 78)"
      ]
     },
     "execution_count": 48,
     "metadata": {
      "tags": []
     },
     "output_type": "execute_result"
    }
   ],
   "source": [
    "X_valid.shape"
   ]
  },
  {
   "cell_type": "code",
   "execution_count": 0,
   "metadata": {
    "colab": {},
    "colab_type": "code",
    "id": "ePk5kKPezP9F"
   },
   "outputs": [],
   "source": [
    "from sklearn.neighbors import KNeighborsClassifier\n",
    "knn= KNeighborsClassifier(n_neighbors=3)\n",
    "from sklearn.svm import SVC\n",
    "svc= SVC()\n",
    "from sklearn.ensemble import RandomForestClassifier\n",
    "rfc = RandomForestClassifier(n_estimators= 100)\n",
    "from sklearn.linear_model import LogisticRegression\n",
    "clf= LogisticRegression(solver= 'liblinear')\n",
    "from sklearn.naive_bayes import MultinomialNB\n",
    "mnb = MultinomialNB()\n",
    "from sklearn.discriminant_analysis import LinearDiscriminantAnalysis\n",
    "lda = LinearDiscriminantAnalysis()\n",
    "from xgboost import XGBClassifier\n",
    "xgb= XGBClassifier()\n",
    "\n",
    "models= {'KNN':knn,'SVC':svc ,'Random Forest':rfc,'Logistic regression':clf ,\n",
    "        'Naive Bayes':mnb,'LDA':lda, 'XGBoost':xgb }"
   ]
  },
  {
   "cell_type": "code",
   "execution_count": 0,
   "metadata": {
    "colab": {
     "base_uri": "https://localhost:8080/",
     "height": 136
    },
    "colab_type": "code",
    "id": "FDguOm0IzlMj",
    "outputId": "2e062e46-4ffe-469c-c292-d8f197fe3379"
   },
   "outputs": [
    {
     "name": "stdout",
     "output_type": "stream",
     "text": [
      "KNN: 0.863380, (0.003782 )\n",
      "SVC: 0.889444, (0.026283 )\n",
      "Random Forest: 0.896998, (0.024013 )\n",
      "Logistic regression: 0.900616, (0.021749 )\n",
      "Naive Bayes: 0.898175, (0.020079 )\n",
      "LDA: 0.892267, (0.022708 )\n",
      "XGBoost: 0.895162, (0.022214 )\n"
     ]
    }
   ],
   "source": [
    "from sklearn.model_selection import StratifiedKFold\n",
    "from sklearn.model_selection import cross_val_score\n",
    "\n",
    "results=[]\n",
    "for model in models:\n",
    "    kfold= StratifiedKFold(n_splits=10, random_state= 42, shuffle= True)\n",
    "    score= cross_val_score(models[model], X_train, y_train, \n",
    "                           cv= kfold, scoring= 'accuracy')\n",
    "    results.append(score)\n",
    "    print('%s: %f, (%f )'%(model,np.mean(results), np.std(results)))"
   ]
  },
  {
   "cell_type": "code",
   "execution_count": 0,
   "metadata": {
    "colab": {
     "base_uri": "https://localhost:8080/",
     "height": 445
    },
    "colab_type": "code",
    "id": "Ar2pvgY0zn0y",
    "outputId": "4c0ed44a-d667-4cd9-f179-c633997165b1"
   },
   "outputs": [
    {
     "data": {
      "image/png": "[encoded data removed]",
      "text/plain": [
       "<Figure size 936x504 with 1 Axes>"
      ]
     },
     "metadata": {
      "tags": []
     },
     "output_type": "display_data"
    }
   ],
   "source": [
    "import matplotlib.pyplot as plt\n",
    "import seaborn as sns\n",
    "sns.set_style('ticks')\n",
    "plt.style.use('ggplot')\n",
    "plt.figure(figsize= (13,7))\n",
    "plt.title('Model Comparision')\n",
    "plt.boxplot(results, labels= models.keys())\n",
    "plt.show()"
   ]
  },
  {
   "cell_type": "code",
   "execution_count": 0,
   "metadata": {
    "colab": {
     "base_uri": "https://localhost:8080/",
     "height": 136
    },
    "colab_type": "code",
    "id": "NlMs4ktazslt",
    "outputId": "5d1d6660-ce0d-49fa-b506-f2147fb871d2"
   },
   "outputs": [
    {
     "data": {
      "text/plain": [
       "XGBClassifier(base_score=0.5, booster='gbtree', colsample_bylevel=1,\n",
       "              colsample_bynode=1, colsample_bytree=1, gamma=0,\n",
       "              learning_rate=0.1, max_delta_step=0, max_depth=3,\n",
       "              min_child_weight=1, missing=None, n_estimators=100, n_jobs=1,\n",
       "              nthread=None, objective='binary:logistic', random_state=0,\n",
       "              reg_alpha=0, reg_lambda=1, scale_pos_weight=1, seed=None,\n",
       "              silent=None, subsample=1, verbosity=1)"
      ]
     },
     "execution_count": 8,
     "metadata": {
      "tags": []
     },
     "output_type": "execute_result"
    }
   ],
   "source": [
    "xgb"
   ]
  },
  {
   "cell_type": "code",
   "execution_count": 0,
   "metadata": {
    "colab": {
     "base_uri": "https://localhost:8080/",
     "height": 34
    },
    "colab_type": "code",
    "id": "tu1S9j3iw_6w",
    "outputId": "b49ad4ef-5e08-4611-b2bf-ef9e1a759a91"
   },
   "outputs": [
    {
     "data": {
      "text/plain": [
       "0.9096902976046455"
      ]
     },
     "execution_count": 51,
     "metadata": {
      "tags": []
     },
     "output_type": "execute_result"
    }
   ],
   "source": [
    "from sklearn.metrics import accuracy_score\n",
    "accuracy_score(y_pred_xgb, y_valid)"
   ]
  },
  {
   "cell_type": "code",
   "execution_count": 0,
   "metadata": {
    "colab": {
     "base_uri": "https://localhost:8080/",
     "height": 102
    },
    "colab_type": "code",
    "id": "3W11DRMA99oe",
    "outputId": "a71b4c01-dcbc-498a-aeef-9955650c8f4b"
   },
   "outputs": [
    {
     "data": {
      "text/plain": [
       "LogisticRegression(C=1.0, class_weight=None, dual=False, fit_intercept=True,\n",
       "                   intercept_scaling=1, l1_ratio=None, max_iter=100,\n",
       "                   multi_class='auto', n_jobs=None, penalty='l2',\n",
       "                   random_state=None, solver='liblinear', tol=0.0001, verbose=0,\n",
       "                   warm_start=False)"
      ]
     },
     "execution_count": 16,
     "metadata": {
      "tags": []
     },
     "output_type": "execute_result"
    }
   ],
   "source": [
    "clf"
   ]
  },
  {
   "cell_type": "markdown",
   "metadata": {
    "colab_type": "text",
    "id": "s6tr6hNX9WcV"
   },
   "source": [
    "# Evalute best model on test data\n",
    "\n",
    "I shortlist both XGBoost and Logistic regression as good classifiers for our dataset. Naive Bayes is very close and has reputed to handle large number of target labels.\n",
    "\n",
    "Although, PCA can be used to reduce the dimensions and shorten the computation time, but it doesn't improve the accuracy. \n",
    "\n",
    "We can perform hyper parameter tuning to improve the performance of our model. \n",
    "\n",
    "Now, I train my model on whole of training dataset and validate the model on test dataset."
   ]
  },
  {
   "cell_type": "code",
   "execution_count": 0,
   "metadata": {
    "colab": {
     "base_uri": "https://localhost:8080/",
     "height": 34
    },
    "colab_type": "code",
    "id": "pOXufHFfDJMR",
    "outputId": "70de210b-e1ef-4786-c831-644c369022ea"
   },
   "outputs": [
    {
     "data": {
      "text/plain": [
       "(82657,)"
      ]
     },
     "execution_count": 40,
     "metadata": {
      "tags": []
     },
     "output_type": "execute_result"
    }
   ],
   "source": [
    "y.shape\n"
   ]
  },
  {
   "cell_type": "code",
   "execution_count": 0,
   "metadata": {
    "colab": {
     "base_uri": "https://localhost:8080/",
     "height": 136
    },
    "colab_type": "code",
    "id": "d6Mr62a5Bw2Z",
    "outputId": "059fffd6-cda4-448e-df2b-a062bc70f510"
   },
   "outputs": [
    {
     "data": {
      "text/plain": [
       "XGBClassifier(base_score=0.5, booster='gbtree', colsample_bylevel=1,\n",
       "              colsample_bynode=1, colsample_bytree=1, gamma=0,\n",
       "              learning_rate=0.1, max_delta_step=0, max_depth=3,\n",
       "              min_child_weight=1, missing=None, n_estimators=100, n_jobs=1,\n",
       "              nthread=None, objective='multi:softprob', random_state=0,\n",
       "              reg_alpha=0, reg_lambda=1, scale_pos_weight=1, seed=None,\n",
       "              silent=None, subsample=1, verbosity=1)"
      ]
     },
     "execution_count": 41,
     "metadata": {
      "tags": []
     },
     "output_type": "execute_result"
    }
   ],
   "source": [
    "xgb.fit(X, y)"
   ]
  },
  {
   "cell_type": "code",
   "execution_count": 0,
   "metadata": {
    "colab": {},
    "colab_type": "code",
    "id": "WUsnsQhF_5Of"
   },
   "outputs": [],
   "source": [
    "from sklearn.metrics import classification_report\n",
    "from sklearn.metrics import accuracy_score"
   ]
  },
  {
   "cell_type": "code",
   "execution_count": 0,
   "metadata": {
    "colab": {},
    "colab_type": "code",
    "id": "r2W3GFiVAE5E"
   },
   "outputs": [],
   "source": [
    "y_pred= xgb.predict(X_test)"
   ]
  },
  {
   "cell_type": "code",
   "execution_count": 0,
   "metadata": {
    "colab": {
     "base_uri": "https://localhost:8080/",
     "height": 34
    },
    "colab_type": "code",
    "id": "KYbyZOQrA5Xq",
    "outputId": "693271fa-5734-44b1-9396-50a0d96b851f"
   },
   "outputs": [
    {
     "data": {
      "text/plain": [
       "(20665,)"
      ]
     },
     "execution_count": 43,
     "metadata": {
      "tags": []
     },
     "output_type": "execute_result"
    }
   ],
   "source": [
    "y_pred.shape"
   ]
  },
  {
   "cell_type": "markdown",
   "metadata": {
    "colab_type": "text",
    "id": "RaQt9HpcHVHD"
   },
   "source": [
    "## Convert labels back to label names."
   ]
  },
  {
   "cell_type": "code",
   "execution_count": 0,
   "metadata": {
    "colab": {},
    "colab_type": "code",
    "id": "K9kpuOFQGRbK"
   },
   "outputs": [],
   "source": [
    "train_variety= pd.read_csv('/content/Knight_train_variety.csv')"
   ]
  },
  {
   "cell_type": "code",
   "execution_count": 0,
   "metadata": {
    "colab": {},
    "colab_type": "code",
    "id": "B0NKx4leGoYE"
   },
   "outputs": [],
   "source": [
    "train_variety= np.array(train_variety)\n",
    "train_variety= train_variety.flatten()"
   ]
  },
  {
   "cell_type": "code",
   "execution_count": 0,
   "metadata": {
    "colab": {},
    "colab_type": "code",
    "id": "82O_EIwaFJVU"
   },
   "outputs": [],
   "source": [
    "from sklearn.preprocessing import LabelEncoder\n",
    "le= LabelEncoder()"
   ]
  },
  {
   "cell_type": "code",
   "execution_count": 0,
   "metadata": {
    "colab": {},
    "colab_type": "code",
    "id": "8LZTke_wFV4P"
   },
   "outputs": [],
   "source": [
    "train_variety_transform= le.fit_transform(train_variety)"
   ]
  },
  {
   "cell_type": "code",
   "execution_count": 0,
   "metadata": {
    "colab": {
     "base_uri": "https://localhost:8080/",
     "height": 34
    },
    "colab_type": "code",
    "id": "DZg9GVwiFhzn",
    "outputId": "4733fb11-88c2-4515-f84e-def25be18aaa"
   },
   "outputs": [
    {
     "data": {
      "text/plain": [
       "array([ 5, 17, 11, ...,  6,  0,  3])"
      ]
     },
     "execution_count": 58,
     "metadata": {
      "tags": []
     },
     "output_type": "execute_result"
    }
   ],
   "source": [
    "train_variety_transform"
   ]
  },
  {
   "cell_type": "code",
   "execution_count": 0,
   "metadata": {
    "colab": {
     "base_uri": "https://localhost:8080/",
     "height": 51
    },
    "colab_type": "code",
    "id": "pNpMyIasFjWx",
    "outputId": "dd88a71e-efd6-4034-d5ff-ee6dc8d622b1"
   },
   "outputs": [
    {
     "data": {
      "text/plain": [
       "array(['Chardonnay', 'Red Blend', 'Nebbiolo', ..., 'Gamay',\n",
       "       'Bordeaux-style Red Blend', 'Cabernet Sauvignon'], dtype=object)"
      ]
     },
     "execution_count": 59,
     "metadata": {
      "tags": []
     },
     "output_type": "execute_result"
    }
   ],
   "source": [
    "le.inverse_transform(train_variety_transform)"
   ]
  },
  {
   "cell_type": "code",
   "execution_count": 0,
   "metadata": {
    "colab": {},
    "colab_type": "code",
    "id": "OWZ15yZMFtOB"
   },
   "outputs": [],
   "source": [
    "pred_values = le.inverse_transform(y_pred)"
   ]
  },
  {
   "cell_type": "code",
   "execution_count": 0,
   "metadata": {
    "colab": {},
    "colab_type": "code",
    "id": "_BfZNTQBIaTd"
   },
   "outputs": [],
   "source": [
    "title_freq_words= ['château','red','bordeaux','blanc','franc','cabernet',\n",
    "                   'sauvignon','champagne','brut','chardonnay','domaine',\n",
    "                   'beaujolaisvillages','gewurztraminer','gewürztraminer',\n",
    "                  'alsace','branco','verde','riesling','rosé','montalcino',\n",
    "                   'sangiovese','chianti','syrah','rioja','ribera','zinfandel',\n",
    "                  'veltliner','grüner','malbec','mendoza','merlot','barolo',\n",
    "                   'barbaresco','nebbiolo','pinot','grigio','gris','noir',\n",
    "                  'quinta','douro','alentejano','white','toscana','provence',\n",
    "                   'brunello','marlborough','sparkling','cava','vineyard',\n",
    "                   'tempranillo','valley','riserva','reserve','reserva']"
   ]
  },
  {
   "cell_type": "code",
   "execution_count": 0,
   "metadata": {
    "colab": {},
    "colab_type": "code",
    "id": "UkoBJzAlIsHg"
   },
   "outputs": [],
   "source": [
    "description_freq_words=['zin','finish','apple', 'citrus','cherry','acidity',\n",
    "                        'crisp','blend','fruit','ripe','pear','black',\n",
    "                        'blackberry','berry','flavors','palate','aromas',\n",
    "                        'tannins','spice','rich','oak','dry','fresh','soft']"
   ]
  },
  {
   "cell_type": "code",
   "execution_count": 0,
   "metadata": {
    "colab": {},
    "colab_type": "code",
    "id": "j1BAuCqhIuOC"
   },
   "outputs": [],
   "source": [
    "col_name= title_freq_words+description_freq_words"
   ]
  },
  {
   "cell_type": "code",
   "execution_count": 0,
   "metadata": {
    "colab": {},
    "colab_type": "code",
    "id": "HVpDytp-KxkZ"
   },
   "outputs": [],
   "source": [
    "test_label = pd.DataFrame(pred_values, columns= ['wine_variety'])"
   ]
  },
  {
   "cell_type": "code",
   "execution_count": 0,
   "metadata": {
    "colab": {},
    "colab_type": "code",
    "id": "k7NbiL9KKkW9"
   },
   "outputs": [],
   "source": [
    "test_features= pd.DataFrame(X_test, columns=[col_name])"
   ]
  },
  {
   "cell_type": "code",
   "execution_count": 0,
   "metadata": {
    "colab": {},
    "colab_type": "code",
    "id": "G1r1v9XNHyNa"
   },
   "outputs": [],
   "source": [
    "test_output = pd.concat([test_label,test_features], axis=1)"
   ]
  },
  {
   "cell_type": "code",
   "execution_count": 0,
   "metadata": {
    "colab": {},
    "colab_type": "code",
    "id": "vPsLhWJUJOMD"
   },
   "outputs": [],
   "source": [
    "pd.DataFrame(test_output).to_csv('Knight_ML_Assignment_output.csv',index= False)"
   ]
  }
 ],
 "metadata": {
  "colab": {
   "collapsed_sections": [],
   "name": "Knight ML Assignment.ipynb",
   "provenance": []
  },
  "kernelspec": {
   "display_name": "Python 3",
   "language": "python",
   "name": "python3"
  },
  "language_info": {
   "codemirror_mode": {
    "name": "ipython",
    "version": 3
   },
   "file_extension": ".py",
   "mimetype": "text/x-python",
   "name": "python",
   "nbconvert_exporter": "python",
   "pygments_lexer": "ipython3",
   "version": "3.7.7"
  },
  "toc": {
   "base_numbering": 1,
   "nav_menu": {},
   "number_sections": true,
   "sideBar": true,
   "skip_h1_title": false,
   "title_cell": "Table of Contents",
   "title_sidebar": "Contents",
   "toc_cell": false,
   "toc_position": {},
   "toc_section_display": true,
   "toc_window_display": false
  }
 },
 "nbformat": 4,
 "nbformat_minor": 1
}
